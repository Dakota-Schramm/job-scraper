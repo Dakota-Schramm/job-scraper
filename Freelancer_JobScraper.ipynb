{
  "nbformat": 4,
  "nbformat_minor": 0,
  "metadata": {
    "colab": {
      "name": "Freelancer_JobScraper.ipynb",
      "provenance": [],
      "collapsed_sections": [],
      "authorship_tag": "ABX9TyPW5vMxeG3N0oSwh0C1u5Z1",
      "include_colab_link": true
    },
    "kernelspec": {
      "name": "python3",
      "display_name": "Python 3"
    },
    "language_info": {
      "name": "python"
    }
  },
  "cells": [
    {
      "cell_type": "markdown",
      "metadata": {
        "id": "view-in-github",
        "colab_type": "text"
      },
      "source": [
        "<a href=\"https://colab.research.google.com/github/Dakota-Schramm/job-scraper/blob/main/Freelancer_JobScraper.ipynb\" target=\"_parent\"><img src=\"https://colab.research.google.com/assets/colab-badge.svg\" alt=\"Open In Colab\"/></a>"
      ]
    },
    {
      "cell_type": "markdown",
      "metadata": {
        "id": "yhNx3tTwLmTR"
      },
      "source": [
        "IMPORTS"
      ]
    },
    {
      "cell_type": "code",
      "metadata": {
        "colab": {
          "base_uri": "https://localhost:8080/"
        },
        "id": "mnHAXUJLwJtl",
        "outputId": "55f536c6-ef9e-4f37-a17e-d1168f68b72c"
      },
      "source": [
        "from collections import defaultdict\n",
        "\n",
        "d = defaultdict(int)\n",
        "\n",
        "s = \"cat dog cat cat cat parrot dog dog lion dog cat moose\"\n",
        "\n",
        "for w in s.split(\" \"):\n",
        "  d[w] +=1\n",
        "\n",
        "for key, value in d.items():\n",
        "  print(key, value)"
      ],
      "execution_count": null,
      "outputs": [
        {
          "output_type": "stream",
          "text": [
            "cat 5\n",
            "dog 4\n",
            "parrot 1\n",
            "lion 1\n",
            "moose 1\n"
          ],
          "name": "stdout"
        }
      ]
    },
    {
      "cell_type": "code",
      "metadata": {
        "id": "75II-hwpLl8i"
      },
      "source": [
        "import requests\n",
        "from bs4 import BeautifulSoup\n",
        "import pandas as pd"
      ],
      "execution_count": null,
      "outputs": []
    },
    {
      "cell_type": "code",
      "metadata": {
        "id": "vAiyuCjAKYL1"
      },
      "source": [
        "#####\n",
        "# Search URL Format\n",
        "#####\n",
        "\n",
        "SEARCH_QUERY_WORDS = [\n",
        "                      \"scraper\",\n",
        "                      \"python\",\n",
        "                      \"java\",\n",
        "                      \"c\",\n",
        "                      \n",
        "]\n",
        "SEARCH_QUERY_FOR_JAVA = \"\"\"https://www.freelancer.com/work/java/?online=true&projectLanguages=en&projectSkills=39&w=f&results=100\"\"\"\n",
        "\n",
        "#url='https://oxylabs.io/blog'\n",
        "response = requests.get(SEARCH_QUERY_FOR_JAVA)\n",
        "\n",
        "with open(\"resp_text.txt\", \"w\") as f:\n",
        "  f.write(response.text)\n",
        "\n",
        "\n",
        "\n",
        "\n"
      ],
      "execution_count": null,
      "outputs": []
    },
    {
      "cell_type": "code",
      "metadata": {
        "id": "TqpXLiFPNDj5"
      },
      "source": [
        "class MasterDataFrame():\n",
        "    def __init__(self):\n",
        "        self.df = pd.DataFrame()\n",
        "\n",
        "    def merge(self, other):\n",
        "        self.df = self.df.append(other)"
      ],
      "execution_count": null,
      "outputs": []
    },
    {
      "cell_type": "code",
      "metadata": {
        "colab": {
          "base_uri": "https://localhost:8080/"
        },
        "id": "LftDMS6cND2-",
        "outputId": "f46b8e60-5c7f-4d7b-f0b0-3cf364905687"
      },
      "source": [
        "contents = None\n",
        "\n",
        "\n",
        "with open(\"resp_text.txt\", \"r\") as f:\n",
        "    contents = f.read()\n",
        "\n",
        "    #print(contents)\n",
        "    soup = BeautifulSoup(contents, 'html.parser')\n",
        "\n",
        "    #jobs = soup.findAll(id=\"project-list\")\n",
        "    jobDF = pd.DataFrame()\n",
        "\n",
        "    jobList = soup.findAll(attrs={'class': 'JobSearchCard-item'})\n",
        "    print(len(jobList))\n",
        "    for job in jobList:\n",
        "        #print(job)\n",
        "        jobDictionary = {}\n",
        "\n",
        "        # Get elements I care about throwing into csv\n",
        "        title = job.find(attrs={'class': 'JobSearchCard-primary-heading-link'})\n",
        "        jobDictionary['title'] = title\n",
        "\n",
        "        days_remaining = job.find(attrs={'class': 'JobSearchCard-primary-heading-days'})\n",
        "        jobDictionary['days_remaining'] = days_remaining\n",
        "\n",
        "        desc = job.find(attrs={'class': 'JobSearchCard-primary-description'})\n",
        "        jobDictionary['desc'] = desc\n",
        "\n",
        "        tags = job.find(attrs={'class': 'JobSearchCard-primary-tags'})\n",
        "        jobDictionary['tags'] = tags\n",
        "\n",
        "        price = job.find(attrs={'class': 'JobSearchCard-primary-price'})\n",
        "        jobDictionary['price'] = price\n",
        "        \n",
        "        for (key, value) in jobDictionary.items():\n",
        "          value = value.text\n",
        "          if key != 'tags':\n",
        "            value = value.replace('\\n', '')\n",
        "            value = value.strip() \n",
        "          else:\n",
        "            value = value.split(sep='\\n')\n",
        "          jobDictionary[key] = value\n",
        "        \n",
        "        #print(jobDictionary)\n",
        "\n",
        "        df = pd.DataFrame.from_dict([jobDictionary])\n",
        "        #print(df)\n",
        "        jobDF = jobDF.append(df)\n",
        "        # print(jobDF)\n",
        "      \n",
        "    print(jobDF)\n",
        "    job_csv_data = jobDF.to_csv('jobs.csv', index = True)\n",
        "\n",
        "    # job.find(attrs={'class': })\n",
        "\n",
        "\n"
      ],
      "execution_count": null,
      "outputs": [
        {
          "output_type": "stream",
          "text": [
            "100\n",
            "Empty DataFrame\n",
            "Columns: []\n",
            "Index: []\n"
          ],
          "name": "stdout"
        }
      ]
    }
  ]
}